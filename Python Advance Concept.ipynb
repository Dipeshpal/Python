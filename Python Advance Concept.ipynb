{
 "cells": [
  {
   "cell_type": "markdown",
   "id": "77bdcb28",
   "metadata": {},
   "source": [
    "# Python Advance Concept"
   ]
  },
  {
   "cell_type": "markdown",
   "id": "a7b71f95",
   "metadata": {},
   "source": [
    "## 1. List Comprehension"
   ]
  },
  {
   "cell_type": "code",
   "execution_count": 1,
   "id": "d40fef44",
   "metadata": {},
   "outputs": [
    {
     "name": "stdout",
     "output_type": "stream",
     "text": [
      "[0, 2, 4, 6, 8, 10, 12, 14, 16, 18]\n",
      "[0, 10, 20, 30, 40, 50, 60, 70, 80, 90]\n",
      "[[0, 1, 2, 3, 4], [0, 1, 2, 3, 4], [0, 1, 2, 3, 4], [0, 1, 2, 3, 4], [0, 1, 2, 3, 4]]\n"
     ]
    }
   ],
   "source": [
    "# Using if with List Comprehension\n",
    "number_list = [ x for x in range(20) if x % 2 == 0]\n",
    "print(number_list)\n",
    "\n",
    "# Nested IF with List Comprehension\n",
    "num_list = [y for y in range(100) if y % 2 == 0 if y % 5 == 0]\n",
    "print(num_list)\n",
    "\n",
    "# Nested list comprehension\n",
    "matrix = [[j for j in range(5)] for i in range(5)]\n",
    "print(matrix)"
   ]
  },
  {
   "cell_type": "markdown",
   "id": "0891e039",
   "metadata": {},
   "source": [
    "## 2. Dictionary Comprehension"
   ]
  },
  {
   "cell_type": "code",
   "execution_count": 2,
   "id": "f152fe26",
   "metadata": {},
   "outputs": [
    {
     "name": "stdout",
     "output_type": "stream",
     "text": [
      "{1: 1, 2: 4, 3: 9, 4: 16, 5: 25, 6: 36, 7: 49, 8: 64, 9: 81, 10: 100}\n",
      "{'milk': 0.7752, 'coffee': 1.9, 'bread': 1.9}\n",
      "{'jack': 'young', 'michael': 'old', 'guido': 'old', 'john': 'young'}\n"
     ]
    }
   ],
   "source": [
    "# dictionary comprehension example\n",
    "square_dict = {num: num*num for num in range(1, 11)}\n",
    "print(square_dict)\n",
    "\n",
    "#item price in dollars\n",
    "old_price = {'milk': 1.02, 'coffee': 2.5, 'bread': 2.5}\n",
    "dollar_to_pound = 0.76\n",
    "new_price = {item: value*dollar_to_pound for (item, value) in old_price.items()}\n",
    "print(new_price)\n",
    "\n",
    "\n",
    "#  if-else Conditional Dictionary Comprehension\n",
    "original_dict = {'jack': 38, 'michael': 48, 'guido': 57, 'john': 33}\n",
    "\n",
    "new_dict_1 = {k: ('old' if v > 40 else 'young')\n",
    "    for (k, v) in original_dict.items()}\n",
    "print(new_dict_1)"
   ]
  },
  {
   "cell_type": "markdown",
   "id": "2832c070",
   "metadata": {},
   "source": [
    "## Python Iterators\n",
    "\n",
    "Iterator in Python is simply an object that can be iterated upon. An object which will return data, one element at a time.\n",
    "\n",
    "Technically speaking, a Python iterator object must implement two special methods, __iter__() and __next__(), collectively called the iterator protocol.\n",
    "\n",
    "An object is called iterable if we can get an iterator from it. Most built-in containers in Python like: list, tuple, string etc. are iterables."
   ]
  },
  {
   "cell_type": "code",
   "execution_count": 3,
   "id": "42f3889a",
   "metadata": {},
   "outputs": [
    {
     "name": "stdout",
     "output_type": "stream",
     "text": [
      "4\n",
      "7\n",
      "0\n",
      "3\n"
     ]
    },
    {
     "ename": "StopIteration",
     "evalue": "",
     "output_type": "error",
     "traceback": [
      "\u001b[1;31m---------------------------------------------------------------------------\u001b[0m",
      "\u001b[1;31mStopIteration\u001b[0m                             Traceback (most recent call last)",
      "\u001b[1;32m<ipython-input-3-e24cbb3042fe>\u001b[0m in \u001b[0;36m<module>\u001b[1;34m\u001b[0m\n\u001b[0;32m     11\u001b[0m \u001b[0mprint\u001b[0m\u001b[1;33m(\u001b[0m\u001b[0mmy_iter\u001b[0m\u001b[1;33m.\u001b[0m\u001b[0m__next__\u001b[0m\u001b[1;33m(\u001b[0m\u001b[1;33m)\u001b[0m\u001b[1;33m)\u001b[0m\u001b[1;33m\u001b[0m\u001b[1;33m\u001b[0m\u001b[0m\n\u001b[0;32m     12\u001b[0m \u001b[1;31m# This will raise error, no items left\u001b[0m\u001b[1;33m\u001b[0m\u001b[1;33m\u001b[0m\u001b[1;33m\u001b[0m\u001b[0m\n\u001b[1;32m---> 13\u001b[1;33m \u001b[0mnext\u001b[0m\u001b[1;33m(\u001b[0m\u001b[0mmy_iter\u001b[0m\u001b[1;33m)\u001b[0m\u001b[1;33m\u001b[0m\u001b[1;33m\u001b[0m\u001b[0m\n\u001b[0m",
      "\u001b[1;31mStopIteration\u001b[0m: "
     ]
    }
   ],
   "source": [
    "# define a list\n",
    "my_list = [4, 7, 0, 3]\n",
    "\n",
    "# get an iterator using iter()\n",
    "my_iter = iter(my_list)\n",
    "\n",
    "# iterate through it using next()\n",
    "print(next(my_iter))\n",
    "print(next(my_iter))\n",
    "print(my_iter.__next__())\n",
    "print(my_iter.__next__())\n",
    "# This will raise error, no items left\n",
    "next(my_iter)"
   ]
  },
  {
   "cell_type": "markdown",
   "id": "1412ee3d",
   "metadata": {},
   "source": [
    "### Building Custom Iterators"
   ]
  },
  {
   "cell_type": "code",
   "execution_count": null,
   "id": "2bae98f6",
   "metadata": {},
   "outputs": [],
   "source": [
    "class PowTwo:\n",
    "    \"\"\"Class to implement an iterator\n",
    "    of powers of two\"\"\"\n",
    "    def __init__(self, max=0):\n",
    "        self.max = max\n",
    "\n",
    "    def __iter__(self):\n",
    "        self.n = 0\n",
    "        return self\n",
    "\n",
    "    def __next__(self):\n",
    "        if self.n <= self.max:\n",
    "            result = 2 ** self.n\n",
    "            self.n += 1\n",
    "            return result\n",
    "        else:\n",
    "            raise StopIteration\n",
    "\n",
    "numbers = PowTwo(3)\n",
    "i = iter(numbers)\n",
    "print(next(i))\n",
    "print(next(i))\n",
    "print(next(i))\n",
    "print(next(i))"
   ]
  },
  {
   "cell_type": "markdown",
   "id": "e738d76a",
   "metadata": {},
   "source": [
    "## Python Generators\n",
    "\n",
    "There is a lot of work in building an iterator in Python. We have to implement a class with __iter__() and __next__() method, keep track of internal states, and raise StopIteration when there are no values to be returned.\n",
    "\n",
    "This is both lengthy and counterintuitive. Generator comes to the rescue in such situations.\n",
    "\n",
    "Python generators are a simple way of creating iterators. All the work we mentioned above are automatically handled by generators in Python.\n",
    "\n",
    "Simply speaking, a generator is a function that returns an object (iterator) which we can iterate over (one value at a time)."
   ]
  },
  {
   "cell_type": "code",
   "execution_count": 4,
   "id": "7efcb209",
   "metadata": {},
   "outputs": [
    {
     "name": "stdout",
     "output_type": "stream",
     "text": [
      "1\n",
      "9\n",
      "36\n",
      "100\n"
     ]
    }
   ],
   "source": [
    "# Here is how we can start getting items from the generator:\n",
    "\n",
    "# Initialize the list\n",
    "my_list = [1, 3, 6, 10]\n",
    "\n",
    "a = (x**2 for x in my_list)\n",
    "print(next(a))\n",
    "print(next(a))\n",
    "print(next(a))\n",
    "print(next(a))"
   ]
  },
  {
   "cell_type": "markdown",
   "id": "7ad19586",
   "metadata": {},
   "source": [
    "### Building Custom Generator"
   ]
  },
  {
   "cell_type": "code",
   "execution_count": 5,
   "id": "b4cbb188",
   "metadata": {},
   "outputs": [
    {
     "name": "stdout",
     "output_type": "stream",
     "text": [
      "1\n",
      "2\n"
     ]
    }
   ],
   "source": [
    "def PowTwoGen(max=0):\n",
    "    n = 0\n",
    "    while n < max:\n",
    "        yield 2 ** n\n",
    "        n += 1\n",
    "\n",
    "obj = PowTwoGen(4)\n",
    "print(next(obj))\n",
    "print(next(obj))"
   ]
  },
  {
   "cell_type": "markdown",
   "id": "3d5077b6",
   "metadata": {},
   "source": [
    "## Python Closures\n",
    "\n",
    "A Closure is a function object that remembers values in enclosing scopes even if they are not present in memory. \n",
    "\n",
    "A function that is defined inside another function is known as a nested function. Nested functions are able to access variables of the enclosing scope. \n",
    "In Python, these non-local variables can be accessed only within their scope and not outside their scope. This can be illustrated by the following example: "
   ]
  },
  {
   "cell_type": "code",
   "execution_count": 6,
   "id": "a9cd7525",
   "metadata": {},
   "outputs": [
    {
     "name": "stdout",
     "output_type": "stream",
     "text": [
      "Hey!\n"
     ]
    }
   ],
   "source": [
    "# Python program to illustrate\n",
    "# nested functions\n",
    "def outerFunction(text):\n",
    "    text = text\n",
    "    def innerFunction():\n",
    "        print(text)\n",
    "    innerFunction()\n",
    "\n",
    "outerFunction('Hey!')"
   ]
  },
  {
   "cell_type": "markdown",
   "id": "769a0763",
   "metadata": {},
   "source": [
    "A closure—unlike a plain function—allows the function to access those captured variables through the closure’s copies of their values or references, even when the function is invoked outside their scope."
   ]
  },
  {
   "cell_type": "code",
   "execution_count": 7,
   "id": "547906dc",
   "metadata": {},
   "outputs": [
    {
     "name": "stdout",
     "output_type": "stream",
     "text": [
      "Hey!\n"
     ]
    }
   ],
   "source": [
    "def outerFunction(text):\n",
    "    text = text\n",
    "    def innerFunction():\n",
    "        print(text)\n",
    "    # Note we are returning function\n",
    "    # WITHOUT parenthesis\n",
    "    return innerFunction \n",
    " \n",
    "myFunction = outerFunction('Hey!')\n",
    "myFunction()"
   ]
  },
  {
   "cell_type": "markdown",
   "id": "9b1bb667",
   "metadata": {},
   "source": [
    "**When and why to use Closures**\n",
    "\n",
    "1. As closures are used as callback functions, they provide some sort of data hiding. This helps us to reduce the use of global variables.\n",
    "\n",
    "2.  When we have few functions in our code, closures prove to be an efficient way. But if we need to have many functions, then go for class (OOP)."
   ]
  },
  {
   "cell_type": "markdown",
   "id": "1d8bf66e",
   "metadata": {},
   "source": [
    "## Python Decorators\n",
    "\n",
    "A decorator takes in a function, adds some functionality and returns it.\n",
    "\n",
    "This is also called metaprogramming because a part of the program tries to modify another part of the program at compile time."
   ]
  },
  {
   "cell_type": "code",
   "execution_count": 8,
   "id": "a9fe5996",
   "metadata": {},
   "outputs": [
    {
     "name": "stdout",
     "output_type": "stream",
     "text": [
      "A\n",
      "B\n"
     ]
    }
   ],
   "source": [
    "def a(func):\n",
    "    print(\"A\")\n",
    "    return func\n",
    "    \n",
    "@a\n",
    "def b():\n",
    "    print(\"B\")\n",
    "    \n",
    "b()"
   ]
  },
  {
   "cell_type": "markdown",
   "id": "27712a2c",
   "metadata": {},
   "source": [
    "## Property in Python\n",
    "https://www.programiz.com/python-programming/property"
   ]
  },
  {
   "cell_type": "markdown",
   "id": "6746e628",
   "metadata": {},
   "source": [
    "# Basic Python\n",
    "https://www.programiz.com/python-programming"
   ]
  },
  {
   "cell_type": "code",
   "execution_count": null,
   "id": "35ba6617",
   "metadata": {},
   "outputs": [],
   "source": []
  }
 ],
 "metadata": {
  "kernelspec": {
   "display_name": "Python 3",
   "language": "python",
   "name": "python3"
  },
  "language_info": {
   "codemirror_mode": {
    "name": "ipython",
    "version": 3
   },
   "file_extension": ".py",
   "mimetype": "text/x-python",
   "name": "python",
   "nbconvert_exporter": "python",
   "pygments_lexer": "ipython3",
   "version": "3.9.6"
  }
 },
 "nbformat": 4,
 "nbformat_minor": 5
}
